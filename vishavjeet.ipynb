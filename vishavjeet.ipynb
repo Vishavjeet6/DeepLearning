{
 "cells": [
  {
   "cell_type": "code",
   "execution_count": 1,
   "metadata": {
    "colab": {},
    "colab_type": "code",
    "id": "hTrigNsdYRyA"
   },
   "outputs": [
    {
     "name": "stderr",
     "output_type": "stream",
     "text": [
      "Using TensorFlow backend.\n"
     ]
    }
   ],
   "source": [
    "import keras\n",
    "from keras.datasets import mnist\n",
    "from keras.models import Sequential\n",
    "from keras.layers import Dense, Dropout, Flatten, Activation, MaxPooling2D\n",
    "from keras import backend as K\n",
    "import pickle\n",
    "import numpy as np\n",
    "import tensorflow as tf\n",
    "from keras.layers import Conv2D, MaxPool2D\n",
    "from keras.layers.advanced_activations import LeakyReLU",
    "from keras.callbacks import ModelCheckpoint"
   ]
  },
  {
   "cell_type": "markdown",
   "metadata": {},
   "source": [
    "# Unpickling "
   ]
  },
  {
   "cell_type": "code",
   "execution_count": 2,
   "metadata": {
    "colab": {},
    "colab_type": "code",
    "id": "dQw1BsG_vlUh"
   },
   "outputs": [],
   "source": [
    "pickle_trainx = open(\"trainX.pickle\",\"rb\")\n",
    "pickle_trainy = open(\"trainY.pickle\",\"rb\")\n",
    "X = pickle.load(pickle_trainx)\n",
    "y = pickle.load(pickle_trainy)"
   ]
  },
  {
   "cell_type": "code",
   "execution_count": 3,
   "metadata": {},
   "outputs": [
    {
     "name": "stdout",
     "output_type": "stream",
     "text": [
      "(60000, 28, 28)\n",
      "(60000,)\n"
     ]
    }
   ],
   "source": [
    "print(X.shape)\n",
    "print(y.shape)"
   ]
  },
  {
   "cell_type": "markdown",
   "metadata": {},
   "source": [
    "## Splitting into training and testing"
   ]
  },
  {
   "cell_type": "code",
   "execution_count": 4,
   "metadata": {
    "colab": {},
    "colab_type": "code",
    "id": "kuCnvXtFPRfP"
   },
   "outputs": [],
   "source": [
    "from sklearn.model_selection import train_test_split\n",
    "X_train, X_test, y_train, y_test = train_test_split(X,y,test_size=0.2,random_state=2)"
   ]
  },
  {
   "cell_type": "code",
   "execution_count": 5,
   "metadata": {
    "colab": {},
    "colab_type": "code",
    "id": "8G0atrkaLscU"
   },
   "outputs": [],
   "source": [
    "img_rows, img_cols = 28, 28"
   ]
  },
  {
   "cell_type": "code",
   "execution_count": 6,
   "metadata": {
    "colab": {
     "base_uri": "https://localhost:8080/",
     "height": 85
    },
    "colab_type": "code",
    "id": "Qrm5CM9BMFdc",
    "outputId": "aeb4d83a-ac5c-4ba2-a2c0-1e56b137a867"
   },
   "outputs": [
    {
     "name": "stdout",
     "output_type": "stream",
     "text": [
      "X_train  (48000, 28, 28)\n",
      "X_test  (12000, 28, 28)\n",
      "y_train  (48000,)\n",
      "y_test  (12000,)\n"
     ]
    }
   ],
   "source": [
    "print(\"X_train \", X_train.shape)\n",
    "print(\"X_test \",X_test.shape)\n",
    "print(\"y_train \", y_train.shape)\n",
    "print(\"y_test \",y_test.shape)"
   ]
  },
  {
   "cell_type": "markdown",
   "metadata": {},
   "source": [
    "##  Total labels"
   ]
  },
  {
   "cell_type": "code",
   "execution_count": 7,
   "metadata": {},
   "outputs": [
    {
     "data": {
      "text/plain": [
       "{0, 1, 2, 3, 4, 5, 6, 7, 8, 9}"
      ]
     },
     "execution_count": 7,
     "metadata": {},
     "output_type": "execute_result"
    }
   ],
   "source": [
    "set(y_train)"
   ]
  },
  {
   "cell_type": "markdown",
   "metadata": {
    "colab_type": "text",
    "id": "Tv06PaxgMhGa"
   },
   "source": [
    "# **Visualizing**"
   ]
  },
  {
   "cell_type": "code",
   "execution_count": 8,
   "metadata": {
    "colab": {},
    "colab_type": "code",
    "id": "fRDqRrKbMm5d"
   },
   "outputs": [],
   "source": [
    "import matplotlib.pyplot as plt\n",
    "%matplotlib inline"
   ]
  },
  {
   "cell_type": "code",
   "execution_count": 9,
   "metadata": {},
   "outputs": [
    {
     "data": {
      "image/png": "[encoded data removed]",
      "text/plain": [
       "<Figure size 720x504 with 9 Axes>"
      ]
     },
     "metadata": {
      "needs_background": "light"
     },
     "output_type": "display_data"
    }
   ],
   "source": [
    "plt.figure(figsize=(10,7))\n",
    "for i in range(9):\n",
    "    plt.subplot(330 + 1 + i)\n",
    "    plt.imshow(X_train[i], cmap=plt.get_cmap('gray'))\n",
    "    plt.title(y_train[i])\n",
    "plt.show()"
   ]
  },
  {
   "cell_type": "markdown",
   "metadata": {
    "colab_type": "text",
    "id": "pRVVvFF6NrVl"
   },
   "source": [
    "# Normalizing"
   ]
  },
  {
   "cell_type": "code",
   "execution_count": 10,
   "metadata": {
    "colab": {},
    "colab_type": "code",
    "id": "Qh-prnVpNNwu"
   },
   "outputs": [],
   "source": [
    "X_train = tf.keras.utils.normalize(X_train, axis=1)\n",
    "X_test = tf.keras.utils.normalize(X_test, axis=1)"
   ]
  },
  {
   "cell_type": "code",
   "execution_count": 11,
   "metadata": {
    "colab": {
     "base_uri": "https://localhost:8080/",
     "height": 269
    },
    "colab_type": "code",
    "id": "hCovQ4rRMuJ9",
    "outputId": "1cf6108f-059d-4d15-e4fa-7d982f34dd83"
   },
   "outputs": [
    {
     "data": {
      "image/png": "[encoded data removed]",
      "text/plain": [
       "<Figure size 432x288 with 1 Axes>"
      ]
     },
     "metadata": {
      "needs_background": "light"
     },
     "output_type": "display_data"
    }
   ],
   "source": [
    "plt.imshow(X_train[1], cmap = plt.cm.binary)\n",
    "plt.show()"
   ]
  },
  {
   "cell_type": "markdown",
   "metadata": {},
   "source": [
    "## Preprocessing and One Hot Encoding "
   ]
  },
  {
   "cell_type": "code",
   "execution_count": 12,
   "metadata": {
    "colab": {},
    "colab_type": "code",
    "id": "gzXxTMuASyX4"
   },
   "outputs": [],
   "source": [
    "X_train = X_train.reshape(X_train.shape[0], img_rows, img_cols,1)\n",
    "X_test = X_test.reshape(X_test.shape[0],img_rows, img_cols, 1)\n",
    "input_shape = (img_rows, img_cols, 1)"
   ]
  },
  {
   "cell_type": "code",
   "execution_count": 13,
   "metadata": {},
   "outputs": [
    {
     "name": "stdout",
     "output_type": "stream",
     "text": [
      "(48000, 28, 28, 1)\n",
      "(12000, 28, 28, 1)\n"
     ]
    }
   ],
   "source": [
    "print(X_train.shape)\n",
    "print(X_test.shape)"
   ]
  },
  {
   "cell_type": "code",
   "execution_count": 14,
   "metadata": {
    "colab": {
     "base_uri": "https://localhost:8080/",
     "height": 34
    },
    "colab_type": "code",
    "id": "L5AXUrWmTmnQ",
    "outputId": "597bff5d-ccb1-483e-d87f-5895d7c74f16"
   },
   "outputs": [
    {
     "name": "stdout",
     "output_type": "stream",
     "text": [
      "(28, 28, 1)\n"
     ]
    }
   ],
   "source": [
    "print(input_shape)"
   ]
  },
  {
   "cell_type": "code",
   "execution_count": 15,
   "metadata": {
    "colab": {},
    "colab_type": "code",
    "id": "k5D6fBO8Tpjv"
   },
   "outputs": [],
   "source": [
    "batch_size = 128\n",
    "num_classes = 10\n",
    "epochs = 30"
   ]
  },
  {
   "cell_type": "code",
   "execution_count": 16,
   "metadata": {
    "colab": {
     "base_uri": "https://localhost:8080/",
     "height": 68
    },
    "colab_type": "code",
    "id": "ELrbroGaTswh",
    "outputId": "ddbe6475-a757-4ed4-a7bb-7391ad98e9f3"
   },
   "outputs": [
    {
     "name": "stdout",
     "output_type": "stream",
     "text": [
      "X_train shape: (48000, 28, 28, 1)\n",
      "X_test shape: (12000, 28, 28, 1)\n",
      "48000 train samples\n",
      "12000 test sample\n"
     ]
    }
   ],
   "source": [
    "X_train = X_train.astype('float32')\n",
    "X_test = X_test.astype('float32')\n",
    "# X_train /= 255\n",
    "# X_test /= 255\n",
    "print('X_train shape:', X_train.shape)\n",
    "print('X_test shape:', X_test.shape)\n",
    "print(X_train.shape[0], 'train samples')\n",
    "print(X_test.shape[0], 'test sample')\n",
    "\n",
    "# convert class vectors to binary class matrices\n",
    "y_train = keras.utils.to_categorical(y_train, num_classes)\n",
    "y_test = keras.utils.to_categorical(y_test, num_classes)"
   ]
  },
  {
   "cell_type": "markdown",
   "metadata": {},
   "source": [
    "# Model "
   ]
  },
  {
   "cell_type": "code",
   "execution_count": 20,
   "metadata": {},
   "outputs": [
    {
     "name": "stdout",
     "output_type": "stream",
     "text": [
      "_________________________________________________________________\n",
      "Layer (type)                 Output Shape              Param #   \n",
      "=================================================================\n",
      "conv2d_6 (Conv2D)            (None, 28, 28, 32)        320       \n",
      "_________________________________________________________________\n",
      "activation_8 (Activation)    (None, 28, 28, 32)        0         \n",
      "_________________________________________________________________\n",
      "max_pooling2d_6 (MaxPooling2 (None, 14, 14, 32)        0         \n",
      "_________________________________________________________________\n",
      "conv2d_7 (Conv2D)            (None, 14, 14, 32)        9248      \n",
      "_________________________________________________________________\n",
      "activation_9 (Activation)    (None, 14, 14, 32)        0         \n",
      "_________________________________________________________________\n",
      "max_pooling2d_7 (MaxPooling2 (None, 7, 7, 32)          0         \n",
      "_________________________________________________________________\n",
      "conv2d_8 (Conv2D)            (None, 7, 7, 16)          4624      \n",
      "_________________________________________________________________\n",
      "activation_10 (Activation)   (None, 7, 7, 16)          0         \n",
      "_________________________________________________________________\n",
      "max_pooling2d_8 (MaxPooling2 (None, 3, 3, 16)          0         \n",
      "_________________________________________________________________\n",
      "flatten_3 (Flatten)          (None, 144)               0         \n",
      "_________________________________________________________________\n",
      "dense_6 (Dense)              (None, 128)               18560     \n",
      "_________________________________________________________________\n",
      "activation_11 (Activation)   (None, 128)               0         \n",
      "_________________________________________________________________\n",
      "dropout_2 (Dropout)          (None, 128)               0         \n",
      "_________________________________________________________________\n",
      "dense_7 (Dense)              (None, 10)                1290      \n",
      "_________________________________________________________________\n",
      "activation_12 (Activation)   (None, 10)                0         \n",
      "=================================================================\n",
      "Total params: 34,042\n",
      "Trainable params: 34,042\n",
      "Non-trainable params: 0\n",
      "_________________________________________________________________\n"
     ]
    }
   ],
   "source": [
    "model = Sequential()\n",
    "model.add(Conv2D(32, (3, 3), padding=\"same\",input_shape=(28,28,1)))\n",
    "model.add(Activation(\"relu\"))\n",
    "model.add(MaxPooling2D(pool_size=(2, 2)))\n",
    "\n",
    "model.add(Conv2D(32, (3,3), padding=\"same\"))\n",
    "model.add(Activation(\"relu\"))\n",
    "model.add(MaxPooling2D(pool_size=(2, 2)))\n",
    "\n",
    "model.add(Conv2D(16, (3,3), padding=\"same\"))\n",
    "model.add(Activation(\"relu\"))\n",
    "model.add(MaxPooling2D(pool_size=(2, 2)))\n",
    "\n",
    "model.add(Flatten())\n",
    "model.add(Dense(128))\n",
    "model.add(Activation(\"relu\"))\n",
    "model.add(Dropout(0.25))\n",
    "\n",
    "model.add(Dense(10))\n",
    "model.add(Activation(\"softmax\"))\n",
    "model.summary()\n",
    "model.compile(optimizer='adam', loss='categorical_crossentropy', metrics=['accuracy'])"
   ]
  },
  {
   "cell_type": "code",
   "execution_count": 18,
   "metadata": {
    "colab": {
     "base_uri": "https://localhost:8080/",
     "height": 340
    },
    "colab_type": "code",
    "id": "SL0w8_BxUGAd",
    "outputId": "d16fd0d8-5840-452a-d1ed-38a3bab06b82"
   },
   "outputs": [
    {
     "name": "stdout",
     "output_type": "stream",
     "text": [
      "_________________________________________________________________\n",
      "Layer (type)                 Output Shape              Param #   \n",
      "=================================================================\n",
      "conv2d_4 (Conv2D)            (None, 26, 26, 16)        160       \n",
      "_________________________________________________________________\n",
      "activation_6 (Activation)    (None, 26, 26, 16)        0         \n",
      "_________________________________________________________________\n",
      "max_pooling2d_4 (MaxPooling2 (None, 13, 13, 16)        0         \n",
      "_________________________________________________________________\n",
      "conv2d_5 (Conv2D)            (None, 9, 9, 32)          12832     \n",
      "_________________________________________________________________\n",
      "max_pooling2d_5 (MaxPooling2 (None, 4, 4, 32)          0         \n",
      "_________________________________________________________________\n",
      "flatten_2 (Flatten)          (None, 512)               0         \n",
      "_________________________________________________________________\n",
      "dense_3 (Dense)              (None, 1024)              525312    \n",
      "_________________________________________________________________\n",
      "dense_4 (Dense)              (None, 256)               262400    \n",
      "_________________________________________________________________\n",
      "dense_5 (Dense)              (None, 10)                2570      \n",
      "_________________________________________________________________\n",
      "activation_7 (Activation)    (None, 10)                0         \n",
      "=================================================================\n",
      "Total params: 803,274\n",
      "Trainable params: 803,274\n",
      "Non-trainable params: 0\n",
      "_________________________________________________________________\n"
     ]
    }
   ],
   "source": [
    "# model = Sequential()\n",
    "# model.add(Conv2D(16, (3,3), input_shape=(28,28,1)))\n",
    "# model.add(Activation('relu'))\n",
    "# model.add(MaxPool2D((2,2)))\n",
    "\n",
    "# model.add(Conv2D(32, (5,5), activation='relu'))\n",
    "# model.add(MaxPool2D((2,2)))\n",
    "\n",
    "# model.add(Flatten())\n",
    "# model.add(Dense(1024, activation='sigmoid'))\n",
    "# model.add(Dense(256, activation='tanh'))\n",
    "# model.add(Dense(10))\n",
    "# model.add(Activation('softmax'))\n",
    "\n",
    "# model.summary()\n",
    "# model.compile(loss=keras.losses.categorical_crossentropy,\n",
    "#              optimizer=keras.optimizers.Adadelta(),\n",
    "#              metrics=['accuracy'])"
   ]
  },
  {
   "cell_type": "code",
   "execution_count": 21,
   "metadata": {
    "colab": {
     "base_uri": "https://localhost:8080/",
     "height": 408
    },
    "colab_type": "code",
    "id": "2Ouju-UwUbH9",
    "outputId": "c295d375-1fd7-4e73-acda-47a361246a65",
    "scrolled": false
   },
   "outputs": [
    {
     "name": "stdout",
     "output_type": "stream",
     "text": [
      "Train on 48000 samples, validate on 12000 samples\n",
      "Epoch 1/30\n",
      "48000/48000 [==============================] - 38s 791us/step - loss: 0.7952 - acc: 0.7054 - val_loss: 0.5126 - val_acc: 0.8108\n",
      "Epoch 2/30\n",
      "48000/48000 [==============================] - 37s 772us/step - loss: 0.5026 - acc: 0.8147 - val_loss: 0.4202 - val_acc: 0.8458\n",
      "Epoch 3/30\n",
      "48000/48000 [==============================] - 38s 791us/step - loss: 0.4349 - acc: 0.8391 - val_loss: 0.3840 - val_acc: 0.8549\n",
      "Epoch 4/30\n",
      "48000/48000 [==============================] - 37s 776us/step - loss: 0.3958 - acc: 0.8544 - val_loss: 0.3596 - val_acc: 0.8642\n",
      "Epoch 5/30\n",
      "48000/48000 [==============================] - 38s 791us/step - loss: 0.3699 - acc: 0.8625 - val_loss: 0.3627 - val_acc: 0.8622\n",
      "Epoch 6/30\n",
      "48000/48000 [==============================] - 39s 806us/step - loss: 0.3527 - acc: 0.8704 - val_loss: 0.3423 - val_acc: 0.8705\n",
      "Epoch 7/30\n",
      "48000/48000 [==============================] - 37s 762us/step - loss: 0.3357 - acc: 0.8755 - val_loss: 0.3336 - val_acc: 0.8719\n",
      "Epoch 8/30\n",
      "48000/48000 [==============================] - 36s 760us/step - loss: 0.3245 - acc: 0.8804 - val_loss: 0.3033 - val_acc: 0.8891\n",
      "Epoch 9/30\n",
      "48000/48000 [==============================] - 41s 845us/step - loss: 0.3099 - acc: 0.8846 - val_loss: 0.3062 - val_acc: 0.8847\n",
      "Epoch 10/30\n",
      "48000/48000 [==============================] - 39s 812us/step - loss: 0.3022 - acc: 0.8871 - val_loss: 0.2918 - val_acc: 0.8892\n",
      "Epoch 11/30\n",
      "48000/48000 [==============================] - 41s 864us/step - loss: 0.2919 - acc: 0.8898 - val_loss: 0.2849 - val_acc: 0.8943\n",
      "Epoch 12/30\n",
      "48000/48000 [==============================] - 38s 790us/step - loss: 0.2835 - acc: 0.8936 - val_loss: 0.2805 - val_acc: 0.8944\n",
      "Epoch 13/30\n",
      "48000/48000 [==============================] - 37s 768us/step - loss: 0.2774 - acc: 0.8956 - val_loss: 0.2794 - val_acc: 0.8964\n",
      "Epoch 14/30\n",
      "48000/48000 [==============================] - 40s 828us/step - loss: 0.2702 - acc: 0.8985 - val_loss: 0.2729 - val_acc: 0.8980\n",
      "Epoch 15/30\n",
      "48000/48000 [==============================] - 37s 761us/step - loss: 0.2626 - acc: 0.9004 - val_loss: 0.2947 - val_acc: 0.8898\n",
      "Epoch 16/30\n",
      "48000/48000 [==============================] - 38s 787us/step - loss: 0.2580 - acc: 0.9029 - val_loss: 0.2712 - val_acc: 0.8997\n",
      "Epoch 17/30\n",
      "48000/48000 [==============================] - 40s 832us/step - loss: 0.2513 - acc: 0.9056 - val_loss: 0.2669 - val_acc: 0.8998\n",
      "Epoch 18/30\n",
      "48000/48000 [==============================] - 38s 801us/step - loss: 0.2475 - acc: 0.9065 - val_loss: 0.2614 - val_acc: 0.9042\n",
      "Epoch 19/30\n",
      "48000/48000 [==============================] - 38s 794us/step - loss: 0.2402 - acc: 0.9104 - val_loss: 0.2615 - val_acc: 0.9032\n",
      "Epoch 20/30\n",
      "48000/48000 [==============================] - 37s 779us/step - loss: 0.2361 - acc: 0.9111 - val_loss: 0.2663 - val_acc: 0.9019\n",
      "Epoch 21/30\n",
      "48000/48000 [==============================] - 38s 781us/step - loss: 0.2314 - acc: 0.9132 - val_loss: 0.2571 - val_acc: 0.9055\n",
      "Epoch 22/30\n",
      "48000/48000 [==============================] - 37s 775us/step - loss: 0.2274 - acc: 0.9144 - val_loss: 0.2569 - val_acc: 0.9067\n",
      "Epoch 23/30\n",
      "48000/48000 [==============================] - 38s 800us/step - loss: 0.2231 - acc: 0.9152 - val_loss: 0.2630 - val_acc: 0.9052\n",
      "Epoch 24/30\n",
      "48000/48000 [==============================] - 39s 804us/step - loss: 0.2197 - acc: 0.9170 - val_loss: 0.2570 - val_acc: 0.9050\n",
      "Epoch 25/30\n",
      "48000/48000 [==============================] - 37s 768us/step - loss: 0.2157 - acc: 0.9186 - val_loss: 0.2566 - val_acc: 0.9060\n",
      "Epoch 26/30\n",
      "48000/48000 [==============================] - 37s 767us/step - loss: 0.2101 - acc: 0.9204 - val_loss: 0.2650 - val_acc: 0.9049- \n",
      "Epoch 27/30\n",
      "48000/48000 [==============================] - 37s 781us/step - loss: 0.2085 - acc: 0.9218 - val_loss: 0.2622 - val_acc: 0.9046\n",
      "Epoch 28/30\n",
      "48000/48000 [==============================] - 37s 781us/step - loss: 0.2039 - acc: 0.9228 - val_loss: 0.2670 - val_acc: 0.9042\n",
      "Epoch 29/30\n",
      "48000/48000 [==============================] - 37s 780us/step - loss: 0.2007 - acc: 0.9239 - val_loss: 0.2630 - val_acc: 0.9085\n",
      "Epoch 30/30\n",
      "48000/48000 [==============================] - 38s 782us/step - loss: 0.1972 - acc: 0.9258 - val_loss: 0.2598 - val_acc: 0.9049\n",
      "Test_loss : 0.25984803810715673\n",
      "Test_accuracy : 0.9049166666666667\n"
     ]
    }
   ],
   "source": [
    "chck = ModelCheckpoint('model.h5', monitor='val_loss', verbose=1, save_best_only=True,save_weights_only=False,\n",
    "                     mode='auto', period=1)\n",
    "mymodel = model.fit(X_train, y_train,\n",
    "         batch_size = batch_size,\n",
    "         epochs = epochs,\n",
    "         verbose = 1,\n",
    "         validation_data = (X_test, y_test),\n",
    "         callbacks=[chck])\n",
    "\n",
    "score = model.evaluate(X_test, y_test, verbose=0)\n",
    "print('Test_loss :', score[0])\n",
    "print('Test_accuracy :', score[1])"
   ]
  },
  {
   "cell_type": "code",
   "execution_count": 22,
   "metadata": {},
   "outputs": [
    {
     "data": {
      "image/png": "[encoded data removed]",
      "text/plain": [
       "<Figure size 432x288 with 1 Axes>"
      ]
     },
     "metadata": {
      "needs_background": "light"
     },
     "output_type": "display_data"
    },
    {
     "data": {
      "image/png": "[encoded data removed]",
      "text/plain": [
       "<Figure size 432x288 with 1 Axes>"
      ]
     },
     "metadata": {
      "needs_background": "light"
     },
     "output_type": "display_data"
    }
   ],
   "source": [
    "plt.figure()\n",
    "plt.plot(mymodel.history['acc'], 'r', label='Training Accuracy')\n",
    "plt.plot(mymodel.history['val_acc'], 'b', label='Testing Accuracy')\n",
    "plt.legend()\n",
    "plt.show()\n",
    "\n",
    "plt.figure()\n",
    "plt.plot(mymodel.history['loss'], 'r', label='Training Loss')\n",
    "plt.plot(mymodel.history['val_loss'], 'b', label='Testing Loss')\n",
    "plt.legend()\n",
    "plt.show()"
   ]
  },
  {
   "cell_type": "markdown",
   "metadata": {},
   "source": [
    "# Predictions for the testX file"
   ]
  },
  {
   "cell_type": "code",
   "execution_count": 23,
   "metadata": {},
   "outputs": [],
   "source": [
    "pickle_testX = open(\"testX.pickle\",\"rb\")\n",
    "testX = pickle.load(pickle_testX)"
   ]
  },
  {
   "cell_type": "code",
   "execution_count": 24,
   "metadata": {},
   "outputs": [
    {
     "name": "stdout",
     "output_type": "stream",
     "text": [
      "(10000, 28, 28)\n"
     ]
    }
   ],
   "source": [
    "print(testX.shape)"
   ]
  },
  {
   "cell_type": "code",
   "execution_count": 25,
   "metadata": {},
   "outputs": [],
   "source": [
    "testX = testX.astype('float32')\n",
    "testX /= 255\n",
    "testX = testX.reshape(10000,28,28,1)"
   ]
  },
  {
   "cell_type": "code",
   "execution_count": 26,
   "metadata": {},
   "outputs": [],
   "source": [
    "y_pred = model.predict_classes(testX)"
   ]
  },
  {
   "cell_type": "markdown",
   "metadata": {},
   "source": [
    "# Saving in output.pickle file "
   ]
  },
  {
   "cell_type": "code",
   "execution_count": 27,
   "metadata": {},
   "outputs": [],
   "source": [
    "with open('output.pickle','wb') as f:\n",
    "    pickle.dump(y_pred,f)"
   ]
  }
 ],
 "metadata": {
  "colab": {
   "name": "vishavjeet.ipynb",
   "provenance": [],
   "version": "0.3.2"
  },
  "kernelspec": {
   "display_name": "Python 3",
   "language": "python",
   "name": "python3"
  },
  "language_info": {
   "codemirror_mode": {
    "name": "ipython",
    "version": 3
   },
   "file_extension": ".py",
   "mimetype": "text/x-python",
   "name": "python",
   "nbconvert_exporter": "python",
   "pygments_lexer": "ipython3",
   "version": "3.6.8"
  }
 },
 "nbformat": 4,
 "nbformat_minor": 1
}
